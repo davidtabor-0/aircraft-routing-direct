{
 "cells": [
  {
   "cell_type": "markdown",
   "id": "78e88f26",
   "metadata": {},
   "source": [
    "Why DIRECT? in this paper, the threats have been simplified to circular boundaries. In real life, the boundaries will be irregular, and will have no explicit differentiable expression avalible."
   ]
  },
  {
   "cell_type": "code",
   "execution_count": 42,
   "id": "ece30d55",
   "metadata": {},
   "outputs": [],
   "source": [
    "from scipydirect import minimize\n",
    "import numpy as np"
   ]
  },
  {
   "cell_type": "markdown",
   "id": "aaba00ae",
   "metadata": {},
   "source": [
    "# Deriving the cost function.\n",
    "\n",
    "## Finding an initial cost function\n",
    "\n",
    "* Consider problem in two dimensions.\n",
    "* Route consists of start and endpoints with a number of intermediate waypoints.\n",
    "* The coordinates of the waypoints are the optimization variables.\n",
    "* We want the distance flown to be minimal, so calculate Euclidian distance of the route, and label it $L$.\n",
    "* Determine if any of our path lies within a threat, and the length of the path within the threat.\n",
    "\n",
    "If the route lies within the $i$-th threat for a distance $L_i$ then the cost of the route can be expressed as\n",
    "\n",
    "$C = L + \\displaystyle\\sum_{i} \\rho _i L_{i}^{p}$\n",
    "\n",
    "$\\rho _i$ is a penalty parameter for the $i$-th threat.\n",
    "\n",
    "In other words, the cost is the total length of the path, plus the length of each segment within a threat multiplied by the penalty parameter associated with that particular threat.\n",
    "\n",
    "## Defining \"leg\" length\n",
    "We have $n$ waypoints $w_j = (w_{j1}, w_{j2})$ for $j = 1, ..., n$, let the start and end points be $w_0, w_{n+1}$ respectively. We can define the vector $u_j = w_j - w_{j-1}$ which helps us defined the length of any given leg as \n",
    "\n",
    "$l_j = \\sqrt{(u_{j1}^2 + u_{j2}^2)}$\n",
    "\n",
    "## Determining threat violations\n",
    "\n",
    "We  will use linear interpoliation to estimate where leg $j$ intersects with threat $i$. \n",
    "\n",
    "Consider $\\sigma _{max}$ to be the maximum step size for use in sampling any leg of a route. This means that the number of samplings points along leg $j$ is $K_{max} = \\lceil l_j / \\sigma _{max} \\rceil$. \n",
    "\n"
   ]
  },
  {
   "cell_type": "code",
   "execution_count": 43,
   "id": "3126fc20",
   "metadata": {},
   "outputs": [],
   "source": [
    "# Cost function\n",
    "def cost(x, threats):\n",
    "    pass\n",
    "\n",
    "# Circular Threats from paper (page 6)\n",
    "#                     Centre,    radius\n",
    "threats = [(np.array([75,  29]),    9   ),\n",
    "           (np.array([80,  66]),    15  ),\n",
    "           (np.array([95,  115]),   22.5),\n",
    "           (np.array([135, 131]),   20  ),\n",
    "           (np.array([140, 67.5]),  37.5),\n",
    "           (np.array([197, 125]),   30  ),]"
   ]
  }
 ],
 "metadata": {
  "kernelspec": {
   "display_name": "directENV",
   "language": "python",
   "name": "python3"
  },
  "language_info": {
   "codemirror_mode": {
    "name": "ipython",
    "version": 3
   },
   "file_extension": ".py",
   "mimetype": "text/x-python",
   "name": "python",
   "nbconvert_exporter": "python",
   "pygments_lexer": "ipython3",
   "version": "3.9.6"
  }
 },
 "nbformat": 4,
 "nbformat_minor": 5
}
