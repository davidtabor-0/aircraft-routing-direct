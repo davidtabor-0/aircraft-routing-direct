{
 "cells": [
  {
   "cell_type": "code",
   "execution_count": null,
   "id": "ece30d55",
   "metadata": {},
   "outputs": [],
   "source": [
    "from scipydirect import minimize\n",
    "import numpy as np\n",
    "\n",
    "# Cost function\n",
    "def cost(x, threats):\n",
    "    pass\n",
    "\n",
    "# Circular Threats from paper (page 6)\n",
    "#                     Centre,    radius\n",
    "threats = [(np.array([75,  29]),    9   ),\n",
    "           (np.array([80,  66]),    15  ),\n",
    "           (np.array([95,  115]),   22.5),\n",
    "           (np.array([135, 131]),   20  ),\n",
    "           (np.array([140, 67.5]),  37.5),\n",
    "           (np.array([197, 125]),   30  ),]\n",
    "\n",
    "\n"
   ]
  }
 ],
 "metadata": {
  "kernelspec": {
   "display_name": "directENV",
   "language": "python",
   "name": "python3"
  },
  "language_info": {
   "codemirror_mode": {
    "name": "ipython",
    "version": 3
   },
   "file_extension": ".py",
   "mimetype": "text/x-python",
   "name": "python",
   "nbconvert_exporter": "python",
   "pygments_lexer": "ipython3",
   "version": "3.9.6"
  }
 },
 "nbformat": 4,
 "nbformat_minor": 5
}
